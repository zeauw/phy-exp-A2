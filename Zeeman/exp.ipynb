{
 "cells": [
  {
   "cell_type": "markdown",
   "metadata": {},
   "source": [
    "$\\Delta \\nu = \\frac{1}{2d}\\frac{D_{k\\lambda 2}^2-D_{k\\lambda 1}^2}{D_{(k-1)\\lambda 1}^2-D_{k\\lambda 1}^2}$\n",
    "\n",
    "如下表：\n",
    "\n",
    "| 电流/A | $D_{k\\lambda 2}$/mm | $D_{k\\lambda 1}$/mm | $D_{(k-1)\\lambda 1}$/mm |  B/T  |\n",
    "|--------|:-------------------:|:-------------------:|:-----------------------:|-------|\n",
    "| 4      |  6.000-1.561=4.439  |  5.318-2.212=3.106  |    6.590-0.917=5.673    | 1.195 |\n",
    "| 3.5    |  5.907-1.578=4.329  |  5.300-2.193=3.107  |    6.575-0.921=5.654    | 1.090 |\n",
    "| 3      |  5.911-1.600=4.331  |  5.360-2.150=3.210  |    6.617-0.903=5.714    | 0.999 |\n",
    "| 2.5    |  5.920-1.646=4.274  |  5.385-2.185=3.200  |    6.619-0.931=5.688    | 0.971 |"
   ]
  },
  {
   "cell_type": "code",
   "execution_count": 5,
   "metadata": {},
   "outputs": [
    {
     "name": "stdout",
     "output_type": "stream",
     "text": [
      "[1.19492823 1.0903133  0.99906604 0.97191056]\n"
     ]
    }
   ],
   "source": [
    "import numpy as np\n",
    "\n",
    "kl2 = [4.439E-3,4.329E-3,4.331E-3,4.274E-3]\n",
    "kl1 = [3.106E-3,3.107E-3,3.210E-3,3.200E-3]\n",
    "km1l1 = [5.673E-3,5.654E-3,5.741E-3,5.688E-3]\n",
    "\n",
    "nu = (1/4E-3)*((np.square(kl2)-np.square(kl1))/(np.square(km1l1)-np.square(kl1)))\n",
    "b = nu/(4*23.343)\n",
    "print(b)"
   ]
  }
 ],
 "metadata": {
  "kernelspec": {
   "display_name": "Python 3",
   "language": "python",
   "name": "python3"
  },
  "language_info": {
   "codemirror_mode": {
    "name": "ipython",
    "version": 3
   },
   "file_extension": ".py",
   "mimetype": "text/x-python",
   "name": "python",
   "nbconvert_exporter": "python",
   "pygments_lexer": "ipython3",
   "version": "3.11.6"
  }
 },
 "nbformat": 4,
 "nbformat_minor": 2
}
